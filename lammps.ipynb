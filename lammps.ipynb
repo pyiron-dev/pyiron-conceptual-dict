{
 "cells": [
  {
   "cell_type": "code",
   "execution_count": 1,
   "metadata": {},
   "outputs": [],
   "source": [
    "%config IPCompleter.evaluation='unsafe'"
   ]
  },
  {
   "cell_type": "code",
   "execution_count": 2,
   "metadata": {},
   "outputs": [
    {
     "data": {
      "application/vnd.jupyter.widget-view+json": {
       "model_id": "8dfd87978275403b96091946bff233ef",
       "version_major": 2,
       "version_minor": 0
      },
      "text/plain": []
     },
     "metadata": {},
     "output_type": "display_data"
    }
   ],
   "source": [
    "from pcd.lammps import process_job\n",
    "from pyiron_atomistics import Project\n",
    "import numpy as np"
   ]
  },
  {
   "cell_type": "code",
   "execution_count": 3,
   "metadata": {},
   "outputs": [],
   "source": [
    "pr = Project('p1')"
   ]
  },
  {
   "cell_type": "code",
   "execution_count": 4,
   "metadata": {},
   "outputs": [],
   "source": [
    "structure = pr.create.structure.bulk('Cu', cubic=True)"
   ]
  },
  {
   "cell_type": "code",
   "execution_count": 5,
   "metadata": {},
   "outputs": [
    {
     "name": "stderr",
     "output_type": "stream",
     "text": [
      "2024-07-16 20:54:22,504 - pyiron_log - WARNING - The job j1 is being loaded instead of running. To re-run use the argument 'delete_existing_job=True in create_job'\n",
      "2024-07-16 20:54:22,504 - pyiron_log - WARNING - The job j1 is being loaded instead of running. To re-run use the argument 'delete_existing_job=True in create_job'\n"
     ]
    }
   ],
   "source": [
    "job = pr.create.job.Lammps('j1')\n",
    "job.structure = structure\n",
    "job.potential = '2001--Mishin-Y--Cu-1--LAMMPS--ipr1'\n",
    "job.calc_md(pressure=0, temperature=500)\n",
    "job.run()"
   ]
  },
  {
   "cell_type": "code",
   "execution_count": 6,
   "metadata": {},
   "outputs": [],
   "source": [
    "cdict = process_job(job)"
   ]
  },
  {
   "cell_type": "code",
   "execution_count": 7,
   "metadata": {},
   "outputs": [],
   "source": [
    "import json"
   ]
  },
  {
   "cell_type": "code",
   "execution_count": 8,
   "metadata": {},
   "outputs": [
    {
     "name": "stdout",
     "output_type": "stream",
     "text": [
      "{\n",
      "  \"@context\": {\n",
      "    \"sample\": \"http://purls.helmholtz-metadaten.de/cmso/AtomicScaleSample\",\n",
      "    \"path\": \"http://purls.helmholtz-metadaten.de/cmso/hasPath\",\n",
      "    \"dof\": \"http://purls.helmholtz-metadaten.de/asmo/hasRelaxationDOF\",\n",
      "    \"inputs\": \"http://purls.helmholtz-metadaten.de/asmo/hasInputParameter\",\n",
      "    \"label\": \"http://www.w3.org/2000/01/rdf-schema#label\",\n",
      "    \"unit\": \"http://purls.helmholtz-metadaten.de/asmo/hasUnit\",\n",
      "    \"value\": \"http://purls.helmholtz-metadaten.de/asmo/hasValue\",\n",
      "    \"outputs\": \"http://purls.helmholtz-metadaten.de/cmso/hasCalculatedProperty\",\n",
      "    \"molecular_dynamics\": \"http://purls.helmholtz-metadaten.de/asmo/MolecularDynamics\",\n",
      "    \"molecular_statics\": \"http://purls.helmholtz-metadaten.de/asmo/MolecularStatics\",\n",
      "    \"ensemble\": \"http://purls.helmholtz-metadaten.de/asmo/hasStatisticalEnsemble\",\n",
      "    \"potential\": \"http://purls.helmholtz-metadaten.de/asmo/EmbeddedAtomModel\"\n",
      "  },\n",
      "  \"molecular_dynamics\": {\n",
      "    \"inputs\": [\n",
      "      {\n",
      "        \"value\": 500.0,\n",
      "        \"unit\": \"K\",\n",
      "        \"label\": \"temperature\"\n",
      "      },\n",
      "      {\n",
      "        \"value\": 0.0,\n",
      "        \"unit\": \"GigaPA\",\n",
      "        \"label\": \"pressure\"\n",
      "      }\n",
      "    ],\n",
      "    \"ensemble\": \"http://purls.helmholtz-metadaten.de/asmo/IsothermalIsobaricEnsemble\",\n",
      "    \"potential\": {\n",
      "      \"label\": \"2001--Mishin-Y--Cu-1--LAMMPS--ipr1\",\n",
      "      \"@id\": \"https://doi.org/10.1103%2Fphysrevb.63.224106\"\n",
      "    }\n",
      "  },\n",
      "  \"dof\": [\n",
      "    \"http://purls.helmholtz-metadaten.de/asmo/AtomicPositionRelaxation\",\n",
      "    \"http://purls.helmholtz-metadaten.de/asmo/CellVolumeRelaxation\"\n",
      "  ],\n",
      "  \"outputs\": [\n",
      "    {\n",
      "      \"label\": \"TotalEnergy\",\n",
      "      \"value\": -13.7411,\n",
      "      \"unit\": \"EV\"\n",
      "    },\n",
      "    {\n",
      "      \"label\": \"TotalVolume\",\n",
      "      \"value\": 48.2183,\n",
      "      \"unit\": \"ANGSTROM3\"\n",
      "    }\n",
      "  ],\n",
      "  \"workflow_manager\": {\n",
      "    \"@id\": \"http://demo.fiz-karlsruhe.de/matwerk/E457491\",\n",
      "    \"label\": \"pyiron\"\n",
      "  },\n",
      "  \"software\": [\n",
      "    {\n",
      "      \"@id\": \"http://demo.fiz-karlsruhe.de/matwerk/E447986\",\n",
      "      \"label\": \"LAMMPS\"\n",
      "    }\n",
      "  ],\n",
      "  \"path\": \"/mnt/c/Users/menon/Documents/repos/projects-pyiron/pyiron-conceptual-dict/p1/j1_hdf5\"\n",
      "}\n"
     ]
    }
   ],
   "source": [
    "print(json.dumps(cdict, indent=2))"
   ]
  },
  {
   "cell_type": "markdown",
   "metadata": {},
   "source": [
    "Explore this on JSON-LD playground [here](https://json-ld.org/playground/#startTab=tab-table&json-ld=%7B%22%40context%22%3A%7B%22sample%22%3A%22http%3A%2F%2Fpurls.helmholtz-metadaten.de%2Fcmso%2FAtomicScaleSample%22%2C%22path%22%3A%22http%3A%2F%2Fpurls.helmholtz-metadaten.de%2Fcmso%2FhasPath%22%2C%22dof%22%3A%22http%3A%2F%2Fpurls.helmholtz-metadaten.de%2Fasmo%2FhasRelaxationDOF%22%2C%22inputs%22%3A%22http%3A%2F%2Fpurls.helmholtz-metadaten.de%2Fasmo%2FhasInputParameter%22%2C%22label%22%3A%22http%3A%2F%2Fwww.w3.org%2F2000%2F01%2Frdf-schema%23label%22%2C%22unit%22%3A%22http%3A%2F%2Fpurls.helmholtz-metadaten.de%2Fasmo%2FhasUnit%22%2C%22value%22%3A%22http%3A%2F%2Fpurls.helmholtz-metadaten.de%2Fasmo%2FhasValue%22%2C%22outputs%22%3A%22http%3A%2F%2Fpurls.helmholtz-metadaten.de%2Fcmso%2FhasCalculatedProperty%22%2C%22molecular_dynamics%22%3A%22http%3A%2F%2Fpurls.helmholtz-metadaten.de%2Fasmo%2FMolecularDynamics%22%2C%22molecular_statics%22%3A%22http%3A%2F%2Fpurls.helmholtz-metadaten.de%2Fasmo%2FMolecularStatics%22%2C%22ensemble%22%3A%22http%3A%2F%2Fpurls.helmholtz-metadaten.de%2Fasmo%2FhasStatisticalEnsemble%22%2C%22potential%22%3A%22http%3A%2F%2Fpurls.helmholtz-metadaten.de%2Fasmo%2FEmbeddedAtomModel%22%7D%2C%22molecular_dynamics%22%3A%7B%22inputs%22%3A%5B%7B%22value%22%3A500%2C%22unit%22%3A%22K%22%2C%22label%22%3A%22temperature%22%7D%2C%7B%22value%22%3A0%2C%22unit%22%3A%22GigaPA%22%2C%22label%22%3A%22pressure%22%7D%5D%2C%22ensemble%22%3A%22http%3A%2F%2Fpurls.helmholtz-metadaten.de%2Fasmo%2FIsothermalIsobaricEnsemble%22%2C%22potential%22%3A%7B%22label%22%3A%222001--Mishin-Y--Cu-1--LAMMPS--ipr1%22%2C%22%40id%22%3A%22https%3A%2F%2Fdoi.org%2F10.1103%252Fphysrevb.63.224106%22%7D%7D%2C%22dof%22%3A%5B%22http%3A%2F%2Fpurls.helmholtz-metadaten.de%2Fasmo%2FAtomicPositionRelaxation%22%2C%22http%3A%2F%2Fpurls.helmholtz-metadaten.de%2Fasmo%2FCellVolumeRelaxation%22%5D%2C%22outputs%22%3A%5B%7B%22label%22%3A%22TotalEnergy%22%2C%22value%22%3A-13.7411%2C%22unit%22%3A%22EV%22%7D%2C%7B%22label%22%3A%22TotalVolume%22%2C%22value%22%3A48.2183%2C%22unit%22%3A%22ANGSTROM3%22%7D%5D%2C%22workflow_manager%22%3A%7B%22%40id%22%3A%22http%3A%2F%2Fdemo.fiz-karlsruhe.de%2Fmatwerk%2FE457491%22%2C%22label%22%3A%22pyiron%22%7D%2C%22software%22%3A%5B%7B%22%40id%22%3A%22http%3A%2F%2Fdemo.fiz-karlsruhe.de%2Fmatwerk%2FE447986%22%2C%22label%22%3A%22LAMMPS%22%7D%5D%2C%22path%22%3A%22%2Fmnt%2Fc%2FUsers%2Fmenon%2FDocuments%2Frepos%2Fprojects-pyiron%2Fpyiron-conceptual-dict%2Fp1%2Fj1_hdf5%22%7D&context=%7B%7D)"
   ]
  },
  {
   "cell_type": "markdown",
   "metadata": {},
   "source": [
    "[This short video](https://youtu.be/Tm3fD89dqRE?si=_O5QPhv8ym0k25ui) tells more about JSON-LD and its use."
   ]
  }
 ],
 "metadata": {
  "kernelspec": {
   "display_name": "workflow-rdf",
   "language": "python",
   "name": "python3"
  },
  "language_info": {
   "codemirror_mode": {
    "name": "ipython",
    "version": 3
   },
   "file_extension": ".py",
   "mimetype": "text/x-python",
   "name": "python",
   "nbconvert_exporter": "python",
   "pygments_lexer": "ipython3",
   "version": "3.11.8"
  }
 },
 "nbformat": 4,
 "nbformat_minor": 2
}

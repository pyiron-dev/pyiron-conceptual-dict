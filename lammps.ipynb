{
 "cells": [
  {
   "cell_type": "code",
   "execution_count": 1,
   "metadata": {},
   "outputs": [],
   "source": [
    "%config IPCompleter.evaluation='unsafe'"
   ]
  },
  {
   "cell_type": "code",
   "execution_count": 2,
   "metadata": {},
   "outputs": [
    {
     "data": {
      "application/vnd.jupyter.widget-view+json": {
       "model_id": "8dfd87978275403b96091946bff233ef",
       "version_major": 2,
       "version_minor": 0
      },
      "text/plain": []
     },
     "metadata": {},
     "output_type": "display_data"
    }
   ],
   "source": [
    "from pcd.lammps import process_job\n",
    "from pyiron_atomistics import Project\n",
    "import numpy as np"
   ]
  },
  {
   "cell_type": "code",
   "execution_count": 3,
   "metadata": {},
   "outputs": [],
   "source": [
    "pr = Project('p1')"
   ]
  },
  {
   "cell_type": "code",
   "execution_count": 4,
   "metadata": {},
   "outputs": [],
   "source": [
    "structure = pr.create.structure.bulk('Cu', cubic=True)"
   ]
  },
  {
   "cell_type": "code",
   "execution_count": 5,
   "metadata": {},
   "outputs": [
    {
     "name": "stderr",
     "output_type": "stream",
     "text": [
      "2024-07-16 20:54:22,504 - pyiron_log - WARNING - The job j1 is being loaded instead of running. To re-run use the argument 'delete_existing_job=True in create_job'\n",
      "2024-07-16 20:54:22,504 - pyiron_log - WARNING - The job j1 is being loaded instead of running. To re-run use the argument 'delete_existing_job=True in create_job'\n"
     ]
    }
   ],
   "source": [
    "job = pr.create.job.Lammps('j1')\n",
    "job.structure = structure\n",
    "job.potential = '2001--Mishin-Y--Cu-1--LAMMPS--ipr1'\n",
    "job.calc_md(pressure=0, temperature=500)\n",
    "job.run()"
   ]
  },
  {
   "cell_type": "code",
   "execution_count": 6,
   "metadata": {},
   "outputs": [],
   "source": [
    "cdict = process_job(job)"
   ]
  },
  {
   "cell_type": "code",
   "execution_count": 7,
   "metadata": {},
   "outputs": [],
   "source": [
    "import json"
   ]
  },
  {
   "cell_type": "code",
   "execution_count": 8,
   "metadata": {},
   "outputs": [
    {
     "name": "stdout",
     "output_type": "stream",
     "text": [
      "{\n",
      "  \"@context\": {\n",
      "    \"sample\": \"http://purls.helmholtz-metadaten.de/cmso/AtomicScaleSample\",\n",
      "    \"path\": \"http://purls.helmholtz-metadaten.de/cmso/hasPath\",\n",
      "    \"dof\": \"http://purls.helmholtz-metadaten.de/asmo/hasRelaxationDOF\",\n",
      "    \"inputs\": \"http://purls.helmholtz-metadaten.de/asmo/hasInputParameter\",\n",
      "    \"label\": \"http://www.w3.org/2000/01/rdf-schema#label\",\n",
      "    \"unit\": \"http://purls.helmholtz-metadaten.de/asmo/hasUnit\",\n",
      "    \"value\": \"http://purls.helmholtz-metadaten.de/asmo/hasValue\",\n",
      "    \"outputs\": \"http://purls.helmholtz-metadaten.de/cmso/hasCalculatedProperty\",\n",
      "    \"molecular_dynamics\": \"http://purls.helmholtz-metadaten.de/asmo/MolecularDynamics\",\n",
      "    \"molecular_statics\": \"http://purls.helmholtz-metadaten.de/asmo/MolecularStatics\",\n",
      "    \"ensemble\": \"http://purls.helmholtz-metadaten.de/asmo/hasStatisticalEnsemble\",\n",
      "    \"potential\": \"http://purls.helmholtz-metadaten.de/asmo/EmbeddedAtomModel\"\n",
      "  },\n",
      "  \"molecular_dynamics\": {\n",
      "    \"inputs\": [\n",
      "      {\n",
      "        \"value\": 500.0,\n",
      "        \"unit\": \"K\",\n",
      "        \"label\": \"temperature\"\n",
      "      },\n",
      "      {\n",
      "        \"value\": 0.0,\n",
      "        \"unit\": \"GigaPA\",\n",
      "        \"label\": \"pressure\"\n",
      "      }\n",
      "    ],\n",
      "    \"ensemble\": \"http://purls.helmholtz-metadaten.de/asmo/IsothermalIsobaricEnsemble\",\n",
      "    \"potential\": {\n",
      "      \"label\": \"2001--Mishin-Y--Cu-1--LAMMPS--ipr1\",\n",
      "      \"@id\": \"https://doi.org/10.1103%2Fphysrevb.63.224106\"\n",
      "    }\n",
      "  },\n",
      "  \"dof\": [\n",
      "    \"http://purls.helmholtz-metadaten.de/asmo/AtomicPositionRelaxation\",\n",
      "    \"http://purls.helmholtz-metadaten.de/asmo/CellVolumeRelaxation\"\n",
      "  ],\n",
      "  \"outputs\": [\n",
      "    {\n",
      "      \"label\": \"TotalEnergy\",\n",
      "      \"value\": -13.7411,\n",
      "      \"unit\": \"EV\"\n",
      "    },\n",
      "    {\n",
      "      \"label\": \"TotalVolume\",\n",
      "      \"value\": 48.2183,\n",
      "      \"unit\": \"ANGSTROM3\"\n",
      "    }\n",
      "  ],\n",
      "  \"workflow_manager\": {\n",
      "    \"@id\": \"http://demo.fiz-karlsruhe.de/matwerk/E457491\",\n",
      "    \"label\": \"pyiron\"\n",
      "  },\n",
      "  \"software\": [\n",
      "    {\n",
      "      \"@id\": \"http://demo.fiz-karlsruhe.de/matwerk/E447986\",\n",
      "      \"label\": \"LAMMPS\"\n",
      "    }\n",
      "  ],\n",
      "  \"path\": \"/mnt/c/Users/menon/Documents/repos/projects-pyiron/pyiron-conceptual-dict/p1/j1_hdf5\"\n",
      "}\n"
     ]
    }
   ],
   "source": [
    "print(json.dumps(cdict, indent=2))"
   ]
  },
  {
   "cell_type": "code",
   "execution_count": null,
   "metadata": {},
   "outputs": [],
   "source": []
  }
 ],
 "metadata": {
  "kernelspec": {
   "display_name": "workflow-rdf",
   "language": "python",
   "name": "python3"
  },
  "language_info": {
   "codemirror_mode": {
    "name": "ipython",
    "version": 3
   },
   "file_extension": ".py",
   "mimetype": "text/x-python",
   "name": "python",
   "nbconvert_exporter": "python",
   "pygments_lexer": "ipython3",
   "version": "3.11.8"
  }
 },
 "nbformat": 4,
 "nbformat_minor": 2
}

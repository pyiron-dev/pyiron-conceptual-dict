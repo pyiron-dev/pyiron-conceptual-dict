{
 "cells": [
  {
   "cell_type": "code",
   "execution_count": 1,
   "metadata": {},
   "outputs": [],
   "source": [
    "%config IPCompleter.evaluation='unsafe'"
   ]
  },
  {
   "cell_type": "code",
   "execution_count": 2,
   "metadata": {},
   "outputs": [
    {
     "name": "stderr",
     "output_type": "stream",
     "text": [
      "/home/htc/pkruzikova/mambaforge/envs/pyiron_rdm/lib/python3.12/site-packages/tqdm/auto.py:21: TqdmWarning: IProgress not found. Please update jupyter and ipywidgets. See https://ipywidgets.readthedocs.io/en/stable/user_install.html\n",
      "  from .autonotebook import tqdm as notebook_tqdm\n"
     ]
    }
   ],
   "source": [
    "from pcd.lammps import process_job\n",
    "from pyiron_atomistics import Project\n",
    "import numpy as np"
   ]
  },
  {
   "cell_type": "code",
   "execution_count": 3,
   "metadata": {},
   "outputs": [],
   "source": [
    "from pcd.openbis import OpenBIS\n",
    "import json"
   ]
  },
  {
   "cell_type": "code",
   "execution_count": 4,
   "metadata": {},
   "outputs": [],
   "source": [
    "mappings_path = 'rdm_mappings'"
   ]
  },
  {
   "cell_type": "markdown",
   "metadata": {},
   "source": [
    "### Job, conceptual dictionary"
   ]
  },
  {
   "cell_type": "code",
   "execution_count": 5,
   "metadata": {},
   "outputs": [],
   "source": [
    "pr = Project('p1')"
   ]
  },
  {
   "cell_type": "code",
   "execution_count": 6,
   "metadata": {},
   "outputs": [],
   "source": [
    "#structure = pr.create.structure.bulk('Cu', cubic=True)"
   ]
  },
  {
   "cell_type": "code",
   "execution_count": 7,
   "metadata": {},
   "outputs": [
    {
     "name": "stdout",
     "output_type": "stream",
     "text": [
      "The job j4 was saved and received the ID: j4\n"
     ]
    }
   ],
   "source": [
    "#job = pr.create.job.Lammps('j4')\n",
    "#job.structure = structure\n",
    "#job.potential = '2001--Mishin-Y--Cu-1--LAMMPS--ipr1'\n",
    "#job.calc_md(pressure=0, temperature=300)\n",
    "#job.run()"
   ]
  },
  {
   "cell_type": "code",
   "execution_count": 6,
   "metadata": {},
   "outputs": [],
   "source": [
    "job = pr.load('j4')"
   ]
  },
  {
   "cell_type": "code",
   "execution_count": 7,
   "metadata": {},
   "outputs": [],
   "source": [
    "cdict = process_job(job)"
   ]
  },
  {
   "cell_type": "code",
   "execution_count": 8,
   "metadata": {},
   "outputs": [],
   "source": [
    "cdict['job_name'] = job.name\n",
    "cdict['project_name'] = job.project.name\n",
    "cdict['job_type'] = job.database_entry.hamilton\n",
    "cdict['job_status'] = str(job.status)\n",
    "cdict['job_starttime'] = str(job.database_entry.timestart.strftime(\"%Y-%m-%d %H:%M:%S\"))\n",
    "cdict['job_stoptime'] = str(job.database_entry.timestop.strftime(\"%Y-%m-%d %H:%M:%S\"))\n",
    "cdict['dummy_bool'] = 'Dummy value for 1'"
   ]
  },
  {
   "cell_type": "code",
   "execution_count": 9,
   "metadata": {},
   "outputs": [
    {
     "name": "stdout",
     "output_type": "stream",
     "text": [
      "{\n",
      "  \"@context\": {\n",
      "    \"sample\": \"http://purls.helmholtz-metadaten.de/cmso/AtomicScaleSample\",\n",
      "    \"path\": \"http://purls.helmholtz-metadaten.de/cmso/hasPath\",\n",
      "    \"dof\": \"http://purls.helmholtz-metadaten.de/asmo/hasRelaxationDOF\",\n",
      "    \"inputs\": \"http://purls.helmholtz-metadaten.de/asmo/hasInputParameter\",\n",
      "    \"label\": \"http://www.w3.org/2000/01/rdf-schema#label\",\n",
      "    \"unit\": \"http://purls.helmholtz-metadaten.de/asmo/hasUnit\",\n",
      "    \"value\": \"http://purls.helmholtz-metadaten.de/asmo/hasValue\",\n",
      "    \"outputs\": \"http://purls.helmholtz-metadaten.de/cmso/hasCalculatedProperty\",\n",
      "    \"molecular_dynamics\": \"http://purls.helmholtz-metadaten.de/asmo/MolecularDynamics\",\n",
      "    \"molecular_statics\": \"http://purls.helmholtz-metadaten.de/asmo/MolecularStatics\",\n",
      "    \"ensemble\": \"http://purls.helmholtz-metadaten.de/asmo/hasStatisticalEnsemble\",\n",
      "    \"potential\": \"http://purls.helmholtz-metadaten.de/asmo/EmbeddedAtomModel\"\n",
      "  },\n",
      "  \"molecular_dynamics\": {\n",
      "    \"inputs\": [\n",
      "      {\n",
      "        \"value\": 300.0,\n",
      "        \"unit\": \"K\",\n",
      "        \"label\": \"temperature\"\n",
      "      },\n",
      "      {\n",
      "        \"value\": 0.0,\n",
      "        \"unit\": \"GigaPA\",\n",
      "        \"label\": \"pressure\"\n",
      "      }\n",
      "    ],\n",
      "    \"ensemble\": \"http://purls.helmholtz-metadaten.de/asmo/IsothermalIsobaricEnsemble\",\n",
      "    \"potential\": {\n",
      "      \"label\": \"2001--Mishin-Y--Cu-1--LAMMPS--ipr1\",\n",
      "      \"@id\": \"https://doi.org/10.1103%2Fphysrevb.63.224106\"\n",
      "    }\n",
      "  },\n",
      "  \"dof\": [\n",
      "    \"http://purls.helmholtz-metadaten.de/asmo/AtomicPositionRelaxation\",\n",
      "    \"http://purls.helmholtz-metadaten.de/asmo/CellVolumeRelaxation\"\n",
      "  ],\n",
      "  \"outputs\": [\n",
      "    {\n",
      "      \"label\": \"TotalEnergy\",\n",
      "      \"value\": -13.8508,\n",
      "      \"unit\": \"EV\"\n",
      "    },\n",
      "    {\n",
      "      \"label\": \"TotalVolume\",\n",
      "      \"value\": 47.9352,\n",
      "      \"unit\": \"ANGSTROM3\"\n",
      "    }\n",
      "  ],\n",
      "  \"workflow_manager\": {\n",
      "    \"@id\": \"http://demo.fiz-karlsruhe.de/matwerk/E457491\",\n",
      "    \"label\": \"pyiron\"\n",
      "  },\n",
      "  \"software\": [\n",
      "    {\n",
      "      \"@id\": \"http://demo.fiz-karlsruhe.de/matwerk/E447986\",\n",
      "      \"label\": \"LAMMPS\"\n",
      "    }\n",
      "  ],\n",
      "  \"path\": \"/scratch/htc/pkruzikova/pyiron_rdm/pyiron-conceptual-dict/p1/j4_hdf5\",\n",
      "  \"job_name\": \"j4\",\n",
      "  \"project_name\": \"p1\",\n",
      "  \"job_type\": \"Lammps\",\n",
      "  \"job_status\": \"finished\",\n",
      "  \"job_starttime\": \"2024-08-08 13:23:37\",\n",
      "  \"job_stoptime\": \"2024-08-08 13:23:37\",\n",
      "  \"dummy_bool\": \"Dummy value for 1\"\n",
      "}\n"
     ]
    }
   ],
   "source": [
    "print(json.dumps(cdict, indent=2))"
   ]
  },
  {
   "cell_type": "markdown",
   "metadata": {},
   "source": [
    "### OpenBIS interface"
   ]
  },
  {
   "cell_type": "code",
   "execution_count": 10,
   "metadata": {},
   "outputs": [
    {
     "name": "stdin",
     "output_type": "stream",
     "text": [
      "Enter openBIS password:  ········\n"
     ]
    }
   ],
   "source": [
    "instance = 'sandbox'\n",
    "rdm = OpenBIS(instance, mappings_path)"
   ]
  },
  {
   "cell_type": "markdown",
   "metadata": {
    "jp-MarkdownHeadingCollapsed": true
   },
   "source": [
    "##### New Object Type for sandbox instance"
   ]
  },
  {
   "cell_type": "code",
   "execution_count": 6,
   "metadata": {},
   "outputs": [
    {
     "name": "stdout",
     "output_type": "stream",
     "text": [
      "sampleType successfully created.\n"
     ]
    },
    {
     "data": {
      "text/html": [
       "\n",
       "            <table border=\"1\" class=\"dataframe\">\n",
       "            <thead>\n",
       "                <tr style=\"text-align: right;\">\n",
       "                <th>attribute</th>\n",
       "                <th>value</th>\n",
       "                </tr>\n",
       "            </thead>\n",
       "            <tbody>\n",
       "        <tr> <td>permId</td> <td>PYIRON_LAMMPS_JOB</td> </tr><tr> <td>code</td> <td>PYIRON_LAMMPS_JOB</td> </tr><tr> <td>description</td> <td></td> </tr><tr> <td>autoGeneratedCode</td> <td>False</td> </tr><tr> <td>generatedCodePrefix</td> <td>PYI_LAMMPS</td> </tr><tr> <td>subcodeUnique</td> <td>False</td> </tr><tr> <td>listable</td> <td>True</td> </tr><tr> <td>showContainer</td> <td>False</td> </tr><tr> <td>showParents</td> <td>True</td> </tr><tr> <td>showParentMetadata</td> <td>False</td> </tr><tr> <td>modificationDate</td> <td>2024-08-07 08:51:43</td> </tr><tr> <td>validationPlugin</td> <td></td> </tr><tr> <td>metaData</td> <td></td> </tr>\n",
       "            </tbody>\n",
       "            </table>\n",
       "        "
      ],
      "text/plain": [
       "attribute            value\n",
       "-------------------  -------------------\n",
       "permId               PYIRON_LAMMPS_JOB\n",
       "code                 PYIRON_LAMMPS_JOB\n",
       "description\n",
       "autoGeneratedCode    False\n",
       "generatedCodePrefix  PYI_LAMMPS\n",
       "subcodeUnique        False\n",
       "listable             True\n",
       "showContainer        False\n",
       "showParents          True\n",
       "showParentMetadata   False\n",
       "modificationDate     2024-08-07 08:51:43\n",
       "validationPlugin\n",
       "metaData"
      ]
     },
     "execution_count": 6,
     "metadata": {},
     "output_type": "execute_result"
    }
   ],
   "source": [
    "object_type = rdm.o.new_object_type(\n",
    "    code = 'pyiron_lammps_job',\n",
    "    generatedCodePrefix = 'PYI_LAMMPS'\n",
    ")\n",
    "object_type.save()"
   ]
  },
  {
   "cell_type": "code",
   "execution_count": 7,
   "metadata": {},
   "outputs": [
    {
     "name": "stdout",
     "output_type": "stream",
     "text": [
      "propertyType successfully created.\n",
      "propertyType successfully created.\n"
     ]
    },
    {
     "data": {
      "text/html": [
       "\n",
       "            <table border=\"1\" class=\"dataframe\">\n",
       "            <thead>\n",
       "                <tr style=\"text-align: right;\">\n",
       "                <th>attribute</th>\n",
       "                <th>value</th>\n",
       "                </tr>\n",
       "            </thead>\n",
       "            <tbody>\n",
       "        <tr> <td>code</td> <td>PROP_TOTALENERGY</td> </tr><tr> <td>label</td> <td>Total energy</td> </tr><tr> <td>description</td> <td>Total energy</td> </tr><tr> <td>managedInternally</td> <td>False</td> </tr><tr> <td>dataType</td> <td>REAL</td> </tr><tr> <td>vocabulary</td> <td></td> </tr><tr> <td>materialType</td> <td></td> </tr><tr> <td>schema</td> <td></td> </tr><tr> <td>transformation</td> <td></td> </tr><tr> <td>semanticAnnotations</td> <td>[]</td> </tr><tr> <td>registrator</td> <td>pavlina</td> </tr><tr> <td>registrationDate</td> <td>2024-08-07 08:54:45</td> </tr><tr> <td>metaData</td> <td>{}</td> </tr><tr> <td>multiValue</td> <td></td> </tr>\n",
       "            </tbody>\n",
       "            </table>\n",
       "        "
      ],
      "text/plain": [
       "attribute            value\n",
       "-------------------  -------------------\n",
       "code                 PROP_TOTALENERGY\n",
       "label                Total energy\n",
       "description          Total energy\n",
       "managedInternally    False\n",
       "dataType             REAL\n",
       "vocabulary\n",
       "materialType\n",
       "schema\n",
       "transformation\n",
       "semanticAnnotations  []\n",
       "registrator          pavlina\n",
       "registrationDate     2024-08-07 08:54:45\n",
       "metaData             {}\n",
       "multiValue"
      ]
     },
     "execution_count": 7,
     "metadata": {},
     "output_type": "execute_result"
    }
   ],
   "source": [
    "prop_p = rdm.o.new_property_type(\n",
    "    code = 'PROP_PRESSURE',\n",
    "    label = 'Pressure',\n",
    "    description = 'Pressure',\n",
    "    dataType = 'REAL'\n",
    ")\n",
    "\n",
    "prop_e = rdm.o.new_property_type(\n",
    "    code = 'PROP_TOTALENERGY',\n",
    "    label = 'Total energy',\n",
    "    description = 'Total energy',\n",
    "    dataType = 'REAL'\n",
    ")\n",
    "\n",
    "prop_p.save()\n",
    "prop_e.save()"
   ]
  },
  {
   "cell_type": "code",
   "execution_count": 8,
   "metadata": {
    "scrolled": true
   },
   "outputs": [
    {
     "name": "stdout",
     "output_type": "stream",
     "text": [
      "Property PROP_TEMPERATURE assigned to PYIRON_LAMMPS_JOB\n",
      "Property PROP_VOLUME assigned to PYIRON_LAMMPS_JOB\n",
      "Property PROP_PRESSURE assigned to PYIRON_LAMMPS_JOB\n",
      "Property PROP_TOTALENERGY assigned to PYIRON_LAMMPS_JOB\n"
     ]
    }
   ],
   "source": [
    "object_type.assign_property(\n",
    "    prop = 'PROP_TEMPERATURE',\n",
    "    showInEditView = True\n",
    ")\n",
    "\n",
    "object_type.assign_property(\n",
    "    prop = 'PROP_VOLUME',\n",
    "    showInEditView = True\n",
    ")\n",
    "\n",
    "object_type.assign_property(\n",
    "    prop = 'PROP_PRESSURE',\n",
    "    showInEditView = True\n",
    ")\n",
    "\n",
    "object_type.assign_property(\n",
    "    prop = 'PROP_TOTALENERGY',\n",
    "    showInEditView = True\n",
    ")"
   ]
  },
  {
   "cell_type": "code",
   "execution_count": 44,
   "metadata": {},
   "outputs": [
    {
     "name": "stdout",
     "output_type": "stream",
     "text": [
      "Property $NAME assigned to PYIRON_LAMMPS_JOB\n"
     ]
    }
   ],
   "source": [
    "object_type.assign_property(\n",
    "    prop = '$NAME',\n",
    "    showInEditView = True\n",
    ")"
   ]
  },
  {
   "cell_type": "markdown",
   "metadata": {},
   "source": [
    "#### Upload job"
   ]
  },
  {
   "cell_type": "code",
   "execution_count": 11,
   "metadata": {},
   "outputs": [
    {
     "name": "stdout",
     "output_type": "stream",
     "text": [
      "sample successfully created.\n",
      "DataSet successfully created.\n"
     ]
    }
   ],
   "source": [
    "rdm.upload_job(cdict)"
   ]
  },
  {
   "cell_type": "code",
   "execution_count": 12,
   "metadata": {},
   "outputs": [
    {
     "name": "stdin",
     "output_type": "stream",
     "text": [
      "Enter openBIS password:  ········\n"
     ]
    }
   ],
   "source": [
    "instance = 'SFB'\n",
    "rdm = OpenBIS(instance, mappings_path)\n",
    "rdm.get_project('PYIRON_TEST')"
   ]
  },
  {
   "cell_type": "code",
   "execution_count": 13,
   "metadata": {},
   "outputs": [
    {
     "name": "stdout",
     "output_type": "stream",
     "text": [
      "sample successfully created.\n",
      "DataSet successfully created.\n"
     ]
    }
   ],
   "source": [
    "rdm.upload_job(cdict)"
   ]
  },
  {
   "cell_type": "code",
   "execution_count": null,
   "metadata": {},
   "outputs": [],
   "source": []
  }
 ],
 "metadata": {
  "kernelspec": {
   "display_name": "Python 3 (ipykernel)",
   "language": "python",
   "name": "python3"
  },
  "language_info": {
   "codemirror_mode": {
    "name": "ipython",
    "version": 3
   },
   "file_extension": ".py",
   "mimetype": "text/x-python",
   "name": "python",
   "nbconvert_exporter": "python",
   "pygments_lexer": "ipython3",
   "version": "3.12.3"
  }
 },
 "nbformat": 4,
 "nbformat_minor": 4
}
